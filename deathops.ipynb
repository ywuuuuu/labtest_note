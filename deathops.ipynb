{
  "cells": [
    {
      "cell_type": "markdown",
      "metadata": {
        "id": "view-in-github",
        "colab_type": "text"
      },
      "source": [
        "<a href=\"https://colab.research.google.com/github/ywuuuuu/labtest_note/blob/main/deathops.ipynb\" target=\"_parent\"><img src=\"https://colab.research.google.com/assets/colab-badge.svg\" alt=\"Open In Colab\"/></a>"
      ]
    },
    {
      "cell_type": "code",
      "execution_count": null,
      "metadata": {
        "id": "IaFZDCl3Orgf"
      },
      "outputs": [],
      "source": []
    },
    {
      "cell_type": "markdown",
      "metadata": {
        "id": "vvMNcuABOsKJ"
      },
      "source": [
        "in order for python to work, the following needed to be written (when u have main fucntion)"
      ]
    },
    {
      "cell_type": "code",
      "execution_count": null,
      "metadata": {
        "id": "-PXxSWi6Oyzv"
      },
      "outputs": [],
      "source": [
        "#if __name__== \"__main__\" :\n",
        "  #main()"
      ]
    },
    {
      "cell_type": "markdown",
      "metadata": {
        "id": "WT9mGr4gG5nM"
      },
      "source": []
    },
    {
      "cell_type": "markdown",
      "metadata": {
        "id": "5_qhFgFm0312"
      },
      "source": [
        "example of if else"
      ]
    },
    {
      "cell_type": "code",
      "execution_count": null,
      "metadata": {
        "colab": {
          "base_uri": "https://localhost:8080/"
        },
        "id": "TjcG4qxx06tt",
        "outputId": "4f770b34-92c7-4453-bf10-021545a9f302"
      },
      "outputs": [
        {
          "name": "stdout",
          "output_type": "stream",
          "text": [
            "normal weight\n"
          ]
        }
      ],
      "source": [
        "bmi = 18.6\n",
        "if bmi < 18.5:\n",
        "  print(\"under weight\")\n",
        "elif bmi>=18.5 and bmi<=25.0:\n",
        "  print(\"normal weight\")\n",
        "else:\n",
        "  print(\"over weight\")"
      ]
    },
    {
      "cell_type": "markdown",
      "metadata": {
        "id": "gTZDpRSP0uhU"
      },
      "source": [
        "dyang pls add examples for for loop and while loop below tq very much"
      ]
    },
    {
      "cell_type": "code",
      "execution_count": null,
      "metadata": {
        "colab": {
          "base_uri": "https://localhost:8080/"
        },
        "id": "3lV0p8KTS9pO",
        "outputId": "c04cf9e6-416f-4c73-c657-64d576871bf8"
      },
      "outputs": [
        {
          "name": "stdout",
          "output_type": "stream",
          "text": [
            "0\n",
            "1\n",
            "2\n"
          ]
        }
      ],
      "source": [
        "for i in range(3):\n",
        "  print (i)"
      ]
    },
    {
      "cell_type": "code",
      "execution_count": null,
      "metadata": {
        "colab": {
          "base_uri": "https://localhost:8080/"
        },
        "id": "yxfJPXx7TC7G",
        "outputId": "02199c0a-ee12-4d1a-884a-8fb6e90f3f4f"
      },
      "outputs": [
        {
          "name": "stdout",
          "output_type": "stream",
          "text": [
            "1\n",
            "2\n",
            "3\n",
            "4\n",
            "5\n",
            "6\n",
            "7\n",
            "8\n",
            "9\n"
          ]
        }
      ],
      "source": [
        "random = [1,2,3,4,5,6,7,8,9]\n",
        "for i in range (len(random)):\n",
        "  print(random[i])"
      ]
    },
    {
      "cell_type": "code",
      "execution_count": null,
      "metadata": {
        "colab": {
          "base_uri": "https://localhost:8080/"
        },
        "id": "xjB5mro8TTYY",
        "outputId": "73a1d32a-6226-412f-9dc4-221c2052e127"
      },
      "outputs": [
        {
          "name": "stdout",
          "output_type": "stream",
          "text": [
            "0\n",
            "1\n",
            "2\n",
            "3\n",
            "4\n",
            "5\n",
            "6\n",
            "7\n",
            "8\n",
            "9\n"
          ]
        }
      ],
      "source": [
        "x = 0\n",
        "while x <10:\n",
        "  print (x)\n",
        "  x+=1 # no such thing as x++ in python"
      ]
    },
    {
      "cell_type": "code",
      "source": [
        "def calculate_average_salary(CSV_):\n",
        "    total = 0\n",
        "    average = 0\n",
        "\n",
        "    #add your implementation to calculate here\n",
        "    for item in employee_data:\n",
        "        total += item[\"age\"]\n",
        "    average = calculate_average_salary() / len(csv)\n",
        "    return average"
      ],
      "metadata": {
        "id": "bfvh6LZfnLLc"
      },
      "execution_count": null,
      "outputs": []
    },
    {
      "cell_type": "markdown",
      "metadata": {
        "id": "xvRnK8_23N75"
      },
      "source": [
        "Lab 2\n"
      ]
    },
    {
      "cell_type": "code",
      "execution_count": null,
      "metadata": {
        "colab": {
          "base_uri": "https://localhost:8080/",
          "height": 331
        },
        "id": "E4oTRFgQD3cB",
        "outputId": "6fa5d125-4d43-49ec-aca9-b80d55ffd887"
      },
      "outputs": [
        {
          "ename": "TypeError",
          "evalue": "ignored",
          "output_type": "error",
          "traceback": [
            "\u001b[0;31m---------------------------------------------------------------------------\u001b[0m",
            "\u001b[0;31mTypeError\u001b[0m                                 Traceback (most recent call last)",
            "\u001b[0;32m<ipython-input-11-ae4ed80272e9>\u001b[0m in \u001b[0;36m<cell line: 4>\u001b[0;34m()\u001b[0m\n\u001b[1;32m      2\u001b[0m   \u001b[0mprint\u001b[0m\u001b[0;34m(\u001b[0m\u001b[0;34m\"Height = \"\u001b[0m \u001b[0;34m+\u001b[0m \u001b[0mheight\u001b[0m\u001b[0;34m)\u001b[0m\u001b[0;34m\u001b[0m\u001b[0;34m\u001b[0m\u001b[0m\n\u001b[1;32m      3\u001b[0m   \u001b[0mprint\u001b[0m\u001b[0;34m(\u001b[0m\u001b[0;34m\"Weight = \"\u001b[0m \u001b[0;34m+\u001b[0m \u001b[0mweight\u001b[0m\u001b[0;34m)\u001b[0m\u001b[0;34m\u001b[0m\u001b[0;34m\u001b[0m\u001b[0m\n\u001b[0;32m----> 4\u001b[0;31m \u001b[0mcalculate_bmi\u001b[0m\u001b[0;34m(\u001b[0m\u001b[0mweight\u001b[0m\u001b[0;34m=\u001b[0m\u001b[0;36m57\u001b[0m\u001b[0;34m,\u001b[0m \u001b[0mheight\u001b[0m\u001b[0;34m=\u001b[0m\u001b[0;36m1.73\u001b[0m\u001b[0;34m)\u001b[0m\u001b[0;34m\u001b[0m\u001b[0;34m\u001b[0m\u001b[0m\n\u001b[0m",
            "\u001b[0;32m<ipython-input-11-ae4ed80272e9>\u001b[0m in \u001b[0;36mcalculate_bmi\u001b[0;34m(height, weight)\u001b[0m\n\u001b[1;32m      1\u001b[0m \u001b[0;32mdef\u001b[0m \u001b[0mcalculate_bmi\u001b[0m\u001b[0;34m(\u001b[0m\u001b[0mheight\u001b[0m\u001b[0;34m,\u001b[0m \u001b[0mweight\u001b[0m\u001b[0;34m)\u001b[0m\u001b[0;34m:\u001b[0m\u001b[0;34m\u001b[0m\u001b[0;34m\u001b[0m\u001b[0m\n\u001b[0;32m----> 2\u001b[0;31m   \u001b[0mprint\u001b[0m\u001b[0;34m(\u001b[0m\u001b[0;34m\"Height = \"\u001b[0m \u001b[0;34m+\u001b[0m \u001b[0mheight\u001b[0m\u001b[0;34m)\u001b[0m\u001b[0;34m\u001b[0m\u001b[0;34m\u001b[0m\u001b[0m\n\u001b[0m\u001b[1;32m      3\u001b[0m   \u001b[0mprint\u001b[0m\u001b[0;34m(\u001b[0m\u001b[0;34m\"Weight = \"\u001b[0m \u001b[0;34m+\u001b[0m \u001b[0mweight\u001b[0m\u001b[0;34m)\u001b[0m\u001b[0;34m\u001b[0m\u001b[0;34m\u001b[0m\u001b[0m\n\u001b[1;32m      4\u001b[0m \u001b[0mcalculate_bmi\u001b[0m\u001b[0;34m(\u001b[0m\u001b[0mweight\u001b[0m\u001b[0;34m=\u001b[0m\u001b[0;36m57\u001b[0m\u001b[0;34m,\u001b[0m \u001b[0mheight\u001b[0m\u001b[0;34m=\u001b[0m\u001b[0;36m1.73\u001b[0m\u001b[0;34m)\u001b[0m\u001b[0;34m\u001b[0m\u001b[0;34m\u001b[0m\u001b[0m\n",
            "\u001b[0;31mTypeError\u001b[0m: can only concatenate str (not \"float\") to str"
          ]
        }
      ],
      "source": [
        "def calculate_bmi(height, weight):\n",
        "  print(\"Height = \" + height)\n",
        "  print(\"Weight = \" + weight)\n",
        "calculate_bmi(weight=57, height=1.73)"
      ]
    },
    {
      "cell_type": "markdown",
      "metadata": {
        "id": "jxZ1jpY3D5ku"
      },
      "source": [
        "The code above will  have an error as to join string and non string, a comma `','` is used instead"
      ]
    },
    {
      "cell_type": "code",
      "execution_count": null,
      "metadata": {
        "colab": {
          "base_uri": "https://localhost:8080/"
        },
        "id": "HebPEeHyD5VN",
        "outputId": "cb28e074-1d3a-4263-d291-30be30784a08"
      },
      "outputs": [
        {
          "name": "stdout",
          "output_type": "stream",
          "text": [
            "Height =  1.73\n",
            "Weight =  57\n"
          ]
        }
      ],
      "source": [
        "def calculate_bmi(height, weight):\n",
        "  print(\"Height = \" , height)\n",
        "  print(\"Weight = \" , weight)\n",
        "calculate_bmi(weight=\"57\", height=\"1.73\")"
      ]
    },
    {
      "cell_type": "code",
      "execution_count": null,
      "metadata": {
        "colab": {
          "base_uri": "https://localhost:8080/"
        },
        "id": "ZkKxTwq1ET55",
        "outputId": "ad6d76f9-3b3e-42ae-bb51-9ef7cdf365fc"
      },
      "outputs": [
        {
          "name": "stdout",
          "output_type": "stream",
          "text": [
            "Height = 1.73\n",
            "Weight = 57\n"
          ]
        }
      ],
      "source": [
        "def calculate_bmi(height, weight):\n",
        "  print(\"Height = \" + height)\n",
        "  print(\"Weight = \" + weight)\n",
        "calculate_bmi(weight=\"57\", height=\"1.73\")"
      ]
    },
    {
      "cell_type": "markdown",
      "metadata": {
        "id": "-tk0kZt1EWOn"
      },
      "source": [
        "By converting a non string to string, the code will also work"
      ]
    },
    {
      "cell_type": "code",
      "execution_count": null,
      "metadata": {
        "colab": {
          "base_uri": "https://localhost:8080/"
        },
        "id": "5wwyhDq5EbXQ",
        "outputId": "60e3fecc-c06d-4c0e-81b7-2177c24bcfd5"
      },
      "outputs": [
        {
          "name": "stdout",
          "output_type": "stream",
          "text": [
            "Height = 1.73\n",
            "Weight = 57\n"
          ]
        }
      ],
      "source": [
        "def calculate_bmi(height, weight):\n",
        "  print(\"Height = \" + str(height))\n",
        "  print(\"Weight = \" + str(weight))\n",
        "calculate_bmi(weight=57, height=1.73)\n"
      ]
    },
    {
      "cell_type": "code",
      "execution_count": null,
      "metadata": {
        "colab": {
          "base_uri": "https://localhost:8080/"
        },
        "id": "PDmddV-6Ejgf",
        "outputId": "af0292b7-fe0c-4837-ac77-ae24338b5884"
      },
      "outputs": [
        {
          "name": "stdout",
          "output_type": "stream",
          "text": [
            "Height = 1.73\n",
            "Weight = 57\n",
            "19.045073340238563\n"
          ]
        }
      ],
      "source": [
        "def calculate_bmi(height, weight):\n",
        "  print(\"Height = \" + str(height))\n",
        "  print(\"Weight = \" + str(weight))\n",
        "#Add code here to calculate BMI\n",
        "  bmi = weight / (height ** 2)\n",
        "#Add code here to display calculate BMI\n",
        "  print(bmi)\n",
        "calculate_bmi(weight=57, height=1.73)"
      ]
    },
    {
      "cell_type": "markdown",
      "metadata": {
        "id": "DH0RckV8FD9l"
      },
      "source": [
        "Two ways of doing a comparision:\n",
        "\n",
        "1.   Brute force (乱乱来全部丢一起）\n",
        "2.   Main method (老师喜欢这个， 考试记得用）\n",
        "\n"
      ]
    },
    {
      "cell_type": "code",
      "execution_count": null,
      "metadata": {
        "colab": {
          "base_uri": "https://localhost:8080/"
        },
        "id": "YmpaIBrgE9KA",
        "outputId": "337bf0b4-6c19-40f6-dca2-5cad5edee109"
      },
      "outputs": [
        {
          "name": "stdout",
          "output_type": "stream",
          "text": [
            "Height = 1.73\n",
            "Weight = 57\n",
            "normal weight\n"
          ]
        }
      ],
      "source": [
        "#Brute Force\n",
        "def calculate_bmi(height, weight):\n",
        "  print(\"Height = \" + str(height))\n",
        "  print(\"Weight = \" + str(weight))\n",
        "#Add code here to calculate BMI\n",
        "  bmi = weight / (height ** 2)\n",
        "  if bmi < 18.5:\n",
        "    print(\"under weight\")\n",
        "  elif bmi>=18.5 and bmi<=25.0:\n",
        "    print(\"normal weight\")\n",
        "  else:\n",
        "    print(\"over weight\")\n",
        "calculate_bmi(weight=57, height=1.73)"
      ]
    },
    {
      "cell_type": "code",
      "execution_count": null,
      "metadata": {
        "colab": {
          "base_uri": "https://localhost:8080/"
        },
        "id": "Pf1onJRxFaGZ",
        "outputId": "c2e37ed6-6a0a-4130-9fc6-2892d7782fa2"
      },
      "outputs": [
        {
          "name": "stdout",
          "output_type": "stream",
          "text": [
            "Height = 1.73\n",
            "Weight = 57\n",
            "normal weight\n"
          ]
        }
      ],
      "source": [
        "def calculate_bmi2(height, weight):\n",
        "  print(\"Height = \" + str(height))\n",
        "  print(\"Weight = \" + str(weight))\n",
        "#Add code here to calculate BMI\n",
        "  bmi = weight / (height ** 2)\n",
        "  return bmi\n",
        "\n",
        "def bmi_compair2(bmi):\n",
        "  if bmi < 18.5:\n",
        "    print(\"under weight\")\n",
        "  elif bmi>=18.5 and bmi<=25.0:\n",
        "    print(\"normal weight\")\n",
        "  else:\n",
        "    print(\"over weight\")\n",
        "\n",
        "\n",
        "def main():\n",
        "  bmi = calculate_bmi2(weight=57, height=1.73)\n",
        "  bmi_compair2(bmi)\n",
        "\n",
        "if __name__ == \"__main__\":\n",
        "  main()"
      ]
    },
    {
      "cell_type": "code",
      "execution_count": null,
      "metadata": {
        "colab": {
          "background_save": true
        },
        "id": "Z-10r3muqjm2",
        "outputId": "fd993f36-b027-47d6-abba-238c0d772021"
      },
      "outputs": [
        {
          "ename": "SyntaxError",
          "evalue": "ignored",
          "output_type": "error",
          "traceback": [
            "\u001b[0;36m  File \u001b[0;32m\"<ipython-input-57-0051143b7044>\"\u001b[0;36m, line \u001b[0;32m31\u001b[0m\n\u001b[0;31m    if_name== “_main”:\u001b[0m\n\u001b[0m              ^\u001b[0m\n\u001b[0;31mSyntaxError\u001b[0m\u001b[0;31m:\u001b[0m invalid character '“' (U+201C)\n"
          ]
        }
      ],
      "source": []
    },
    {
      "cell_type": "code",
      "execution_count": null,
      "metadata": {
        "id": "e-4mtP66HAe3"
      },
      "outputs": [],
      "source": []
    },
    {
      "cell_type": "markdown",
      "metadata": {
        "id": "FmhXkBgMG7CS"
      },
      "source": [
        "The code above is using the main method, where `main()` is run first by default. <br>\n",
        "The concept is same as below:\n",
        "\n"
      ]
    },
    {
      "cell_type": "code",
      "execution_count": null,
      "metadata": {
        "colab": {
          "base_uri": "https://localhost:8080/"
        },
        "id": "FlJZFLhkHPTs",
        "outputId": "968fdfff-1d90-4af8-ce82-f59976b6449b"
      },
      "outputs": [
        {
          "name": "stdout",
          "output_type": "stream",
          "text": [
            "Height = 1.73\n",
            "Weight = 57\n",
            "normal weight\n"
          ]
        }
      ],
      "source": [
        "def calculate_bmi2(height, weight):\n",
        "  print(\"Height = \" + str(height))\n",
        "  print(\"Weight = \" + str(weight))\n",
        "#Add code here to calculate BMI\n",
        "  bmi = weight / (height ** 2)\n",
        "  return bmi\n",
        "\n",
        "def bmi_compair2(bmi):\n",
        "  if bmi < 18.5:\n",
        "    print(\"under weight\")\n",
        "  elif bmi>=18.5 and bmi<=25.0:\n",
        "    print(\"normal weight\")\n",
        "  else:\n",
        "    print(\"over weight\")\n",
        "\n",
        "\n",
        "def main():\n",
        "  bmi = calculate_bmi2(weight=57, height=1.73)\n",
        "  bmi_compair2(bmi)\n",
        "\n",
        "main()"
      ]
    },
    {
      "cell_type": "code",
      "execution_count": null,
      "metadata": {
        "colab": {
          "base_uri": "https://localhost:8080/"
        },
        "id": "TEX8rJeXI1ly",
        "outputId": "7ceec87a-8c4d-4b95-95e9-b687a65e7df6"
      },
      "outputs": [
        {
          "name": "stdout",
          "output_type": "stream",
          "text": [
            "ET7035 - Introduction to DevOps for AIOT - Lab 2 - Introduction to Python\n",
            "Enter some numbers seperated by commas (e.g 5,67,32)\n",
            "5,6,7,8,9\n",
            "5 9\n",
            "[5, 6, 7, 8, 9]\n",
            "7\n",
            "7.0\n"
          ]
        }
      ],
      "source": [
        "import statistics\n",
        "\n",
        "def display_main_menu():\n",
        "    print(\"Enter some numbers seperated by commas (e.g 5,67,32)\")\n",
        "\n",
        "def get_user_input():\n",
        "    temp1 = input().split(\",\")\n",
        "    temp2 = [int(x) for x in temp1]\n",
        "    return temp2\n",
        "\n",
        "def calc_average(temp):\n",
        "    #print(\"calc_average\")\n",
        "    avg = sum(temp)/len(temp)\n",
        "    print(avg)\n",
        "\n",
        "def find_min_max(temp):\n",
        "    #return min_temp, max_temp\n",
        "    min_temp = min(temp)\n",
        "    max_temp = max(temp)\n",
        "    print(min_temp, max_temp)\n",
        "def sort_temperature(temp):\n",
        "    temp.sort()\n",
        "    print(temp)\n",
        "def calc_median_temperature(temp):\n",
        "    print (statistics.median(temp))\n",
        "\n",
        "def main():\n",
        "    print(\"ET7035 - Introduction to DevOps for AIOT - Lab 2 - Introduction to Python\")\n",
        "    display_main_menu()\n",
        "    temp = get_user_input()\n",
        "    find_min_max(temp)\n",
        "    sort_temperature(temp)\n",
        "    calc_median_temperature(temp)\n",
        "    calc_average(temp)\n",
        "\n",
        "\n",
        "if __name__ == \"__main__\":\n",
        "    main()"
      ]
    },
    {
      "cell_type": "markdown",
      "metadata": {
        "id": "Rjoq3vI1MLAD"
      },
      "source": []
    },
    {
      "cell_type": "code",
      "execution_count": null,
      "metadata": {
        "id": "c74K9sovMOwf"
      },
      "outputs": [],
      "source": [
        "import unittest\n",
        "import lab3_bmi as bmi\n",
        "\n",
        "\n",
        "class MyTestCase(unittest.TestCase):\n",
        "    def test_something(self):\n",
        "        self.assertEqual(bmi.calculate_bmi(1.8, 61), 0)  # add assertion here\n",
        "        self.assertEqual(bmi.calculate_bmi(1.6, 100), 1)\n",
        "        self.assertEqual(bmi.calculate_bmi(1.8, 20), -1)\n",
        "\n",
        "\n",
        "if __name__ == '__main__':\n",
        "    unittest.main()\n"
      ]
    },
    {
      "cell_type": "code",
      "execution_count": null,
      "metadata": {
        "id": "Yn9AJTlfMlaO"
      },
      "outputs": [],
      "source": []
    },
    {
      "cell_type": "markdown",
      "metadata": {
        "id": "baZJgb6iMljE"
      },
      "source": [
        "This should run in PyTEst but not here"
      ]
    },
    {
      "cell_type": "markdown",
      "metadata": {
        "id": "OpTDTN1_I8OI"
      },
      "source": [
        "Ans for Lab2"
      ]
    },
    {
      "cell_type": "markdown",
      "metadata": {
        "id": "QEByc-wLI_Q_"
      },
      "source": [
        "LAB 3"
      ]
    },
    {
      "cell_type": "code",
      "execution_count": null,
      "metadata": {
        "colab": {
          "base_uri": "https://localhost:8080/"
        },
        "id": "U4x0G1R1LNya",
        "outputId": "4a9c758d-a930-466d-aceb-a23a767fb666"
      },
      "outputs": [
        {
          "name": "stdout",
          "output_type": "stream",
          "text": [
            "Lab 3 - Software Unit Testing with PyTest\n",
            "\n",
            "Sorted array in ascending order: \n",
            "[11, 12, 22, 25, 34, 64, 90]\n",
            "Sorted array in ascending order: \n",
            "[90, 64, 34, 25, 22, 12, 11]\n"
          ]
        }
      ],
      "source": [
        "print(\"Lab 3 - Software Unit Testing with PyTest\")\n",
        "\n",
        "SORT_ASCENDING = 0\n",
        "SORT_DESCENDING = 1\n",
        "\n",
        "\n",
        "def bubble_sort(arr, sorting_order):\n",
        "\n",
        "    # Copy input list to results list\n",
        "    arr_result = arr.copy()\n",
        "\n",
        "    # Get number of elements in the list\n",
        "    n = len(arr_result)\n",
        "\n",
        "    if n < 10:\n",
        "        # Traverse through all array elements\n",
        "        for i in range(n - 1):\n",
        "            # range(n) also work but outer loop will\n",
        "            # repeat one time more than needed.\n",
        "\n",
        "            # Last i elements are already in place\n",
        "            for j in range(0, n - i - 1):\n",
        "\n",
        "                if sorting_order == SORT_ASCENDING:\n",
        "                    if arr_result[j] > arr_result[j + 1]:\n",
        "                        arr_result[j], arr_result[j + 1] = arr_result[j + 1], arr_result[j]\n",
        "\n",
        "\n",
        "                elif sorting_order == SORT_DESCENDING:\n",
        "                    if arr_result[j] < arr_result[j + 1]:\n",
        "                        arr_result[j], arr_result[j + 1] = arr_result[j + 1], arr_result[j]\n",
        "\n",
        "                else:\n",
        "                    # Return an empty array\n",
        "                    arr_result = []\n",
        "    else:\n",
        "        arr_result = -1\n",
        "\n",
        "    return arr_result\n",
        "\n",
        "def main():\n",
        "    # Driver code to test above\n",
        "    arr = [64, 34, 25, 12, 22, 11, 90]\n",
        "\n",
        "    # Sort in ascending order\n",
        "    result = bubble_sort(arr, SORT_ASCENDING)\n",
        "    print(\"\\nSorted array in ascending order: \")\n",
        "    print(result)\n",
        "\n",
        "    # Sort in descending order\n",
        "    print(\"Sorted array in ascending order: \")\n",
        "    result = bubble_sort(arr, SORT_DESCENDING)\n",
        "    print(result)\n",
        "\n",
        "if __name__ == \"__main__\":\n",
        "    main()\n"
      ]
    },
    {
      "cell_type": "code",
      "execution_count": null,
      "metadata": {
        "colab": {
          "base_uri": "https://localhost:8080/"
        },
        "id": "tAxelKg9Llwi",
        "outputId": "9972a1c4-d0e4-47c0-a2c1-8ff0abf32e13"
      },
      "outputs": [
        {
          "name": "stdout",
          "output_type": "stream",
          "text": [
            "Test_Lab3\n"
          ]
        }
      ],
      "source": [
        "print(\"Test_Lab3\")\n",
        "def len_checker(arr):\n",
        "    n = len(arr)\n",
        "    if n > 10:\n",
        "        return 1\n",
        "    elif n == 0:\n",
        "        return 0\n",
        "    else:\n",
        "        return 2\n",
        "\n",
        "def test_bubble_sort_ascending():\n",
        "    result = []\n",
        "    input_arr = [64, 34, 25, 12, 22, 11, 90]\n",
        "    test_arr = [11, 12, 22, 25, 34, 64, 90]\n",
        "    len_checker(input_arr)\n",
        "    result = bubble_sort(input_arr, SORT_ASCENDING)\n",
        "\n",
        "    assert (result == test_arr)\n",
        "\n",
        "def test_bubble_sort_descending():\n",
        "    result = []\n",
        "    input_arr = [64, 34, 25, 12, 22, 11, 90]\n",
        "    test_arr = [90, 64, 34, 25, 22, 12, 11]\n",
        "    len_checker(input_arr)\n",
        "    result = bubble_sort(input_arr, SORT_DESCENDING)\n",
        "\n",
        "    assert (result == test_arr)\n",
        "\n",
        "def test_bubble_sort_invalid():\n",
        "    result = []\n",
        "    input_arr = [64, 34, 25, 12, 22, 11, 90]\n",
        "    len_checker(input_arr)\n",
        "    result = bubble_sort(input_arr, 3)\n",
        "\n",
        "    assert (result == [])\n",
        "test_bubble_sort_ascending()\n",
        "test_bubble_sort_descending()\n",
        "test_bubble_sort_invalid()"
      ]
    },
    {
      "cell_type": "markdown",
      "metadata": {
        "id": "vW4imXccL6pv"
      },
      "source": [
        "No output means pass in here, pytest will have pass or something like that"
      ]
    },
    {
      "cell_type": "code",
      "execution_count": null,
      "metadata": {
        "id": "Qug_MUtoNJwN"
      },
      "outputs": [],
      "source": [
        "price_list={'apple' : 1.20, 'orange':1.40, 'watermelon': 6.50, 'pineapple': 2.70, 'pear' : 0.90, 'papaya': 2.95, 'pomegranate': 4.95 }\n",
        "\n",
        "quantity_list= {'apple': 5, 'orange':5, 'watermelon': 1, 'pineapple': 2, 'pear' : 10, 'papaya': 1, 'pomegranate': 2}\n",
        "\n",
        "\n",
        "def total_cost_shopping():\n",
        "    total_cost = 0\n",
        "    for key in price_list.keys():\n",
        "        if key in quantity_list:\n",
        "            # complete the implementation below:\n",
        "            total_cost += price_list[key]\n",
        "    print(\"total cost = \", total_cost)\n",
        "    return total_cost\n",
        "\n",
        "def cost_of_fruits(fruit, quantity):\n",
        "    for key in price_list.keys():\n",
        "        if key == fruit:\n",
        "            cost = quantity*price_list[key]\n",
        "            break\n",
        "\n",
        "    print(\"cost of \", quantity, fruit, \"=\", cost)\n",
        "    return cost\n",
        "\n",
        "def main():\n",
        "\n",
        "    cost_of_fruits('apple', 10)\n",
        "    total_cost_shopping()\n",
        "\n",
        "\n",
        "if __name__ == \"__main__\":\n",
        "    main()"
      ]
    },
    {
      "cell_type": "markdown",
      "metadata": {
        "id": "VDlVl6LBNLCm"
      },
      "source": [
        "\n",
        "\n",
        "`\n",
        "self.assertEqual(a,b)\n",
        "`\n",
        "is just testing is a == b\n",
        "It is same as 'assert (a == b)\n",
        "Just more atas way of writting\n",
        "\n"
      ]
    },
    {
      "cell_type": "code",
      "execution_count": null,
      "metadata": {
        "id": "hQCc0cgVL5nl"
      },
      "outputs": [],
      "source": [
        "import unittest\n",
        "import price_info as pif\n",
        "\n",
        "class MyTestCase(unittest.TestCase):\n",
        "    def test_something(self):\n",
        "        price_list = {'apple': 1.20, 'orange': 1.40, 'watermelon': 6.50, 'pineapple': 2.70, 'pear': 0.90,\n",
        "                      'papaya': 2.95, 'pomegranate': 4.95}\n",
        "\n",
        "        quantity_list = {'apple': 5, 'orange': 5, 'watermelon': 1, 'pineapple': 2, 'pear': 10, 'papaya': 1,\n",
        "                         'pomegranate': 2}\n",
        "        self.assertEqual(pif.total_cost_shopping(), 20.6)  # add assertion here\n",
        "        self.assertEqual(pif.cost_of_fruits('apple', 10), 12)  # add assertion here\n",
        "\n",
        "if __name__ == '__main__':\n",
        "    unittest.main()"
      ]
    },
    {
      "cell_type": "code",
      "execution_count": null,
      "metadata": {
        "colab": {
          "base_uri": "https://localhost:8080/",
          "height": 814
        },
        "id": "RALWtClONj2n",
        "outputId": "e246f5fe-cb30-40d1-8afe-bd956e29e17c"
      },
      "outputs": [
        {
          "name": "stdout",
          "output_type": "stream",
          "text": [
            "\n",
            "----- Employee information Tracker -----\n",
            "Select option\n",
            "\n",
            "1 - Display all records\n",
            "2 - Display average salary\n",
            "3 - Display employee within age range\n",
            "4 - Display employee in a department\n",
            "Q - Quit\n",
            "Enter selection =>4\n",
            "Name of Department = Marketing\n",
            "Name           Age            Department     Salary\n",
            "Jane           25             Marketing      60000\n",
            "Mary           23             Marketing      56000\n",
            "\n",
            "----- Employee information Tracker -----\n",
            "Select option\n",
            "\n",
            "1 - Display all records\n",
            "2 - Display average salary\n",
            "3 - Display employee within age range\n",
            "4 - Display employee in a department\n",
            "Q - Quit\n"
          ]
        },
        {
          "ename": "KeyboardInterrupt",
          "evalue": "ignored",
          "output_type": "error",
          "traceback": [
            "\u001b[0;31m---------------------------------------------------------------------------\u001b[0m",
            "\u001b[0;31mKeyboardInterrupt\u001b[0m                         Traceback (most recent call last)",
            "\u001b[0;32m<ipython-input-49-928d5f91b1bf>\u001b[0m in \u001b[0;36m<cell line: 95>\u001b[0;34m()\u001b[0m\n\u001b[1;32m     94\u001b[0m \u001b[0;34m\u001b[0m\u001b[0m\n\u001b[1;32m     95\u001b[0m \u001b[0;32mif\u001b[0m \u001b[0m__name__\u001b[0m \u001b[0;34m==\u001b[0m \u001b[0;34m\"__main__\"\u001b[0m\u001b[0;34m:\u001b[0m\u001b[0;34m\u001b[0m\u001b[0;34m\u001b[0m\u001b[0m\n\u001b[0;32m---> 96\u001b[0;31m     \u001b[0mmain\u001b[0m\u001b[0;34m(\u001b[0m\u001b[0;34m)\u001b[0m\u001b[0;34m\u001b[0m\u001b[0;34m\u001b[0m\u001b[0m\n\u001b[0m",
            "\u001b[0;32m<ipython-input-49-928d5f91b1bf>\u001b[0m in \u001b[0;36mmain\u001b[0;34m()\u001b[0m\n\u001b[1;32m     90\u001b[0m \u001b[0;34m\u001b[0m\u001b[0m\n\u001b[1;32m     91\u001b[0m     \u001b[0;32mwhile\u001b[0m \u001b[0;34m(\u001b[0m\u001b[0;32mTrue\u001b[0m\u001b[0;34m)\u001b[0m\u001b[0;34m:\u001b[0m\u001b[0;34m\u001b[0m\u001b[0;34m\u001b[0m\u001b[0m\n\u001b[0;32m---> 92\u001b[0;31m         \u001b[0mdisplay_main_menu\u001b[0m\u001b[0;34m(\u001b[0m\u001b[0;34m)\u001b[0m\u001b[0;34m\u001b[0m\u001b[0;34m\u001b[0m\u001b[0m\n\u001b[0m\u001b[1;32m     93\u001b[0m \u001b[0;34m\u001b[0m\u001b[0m\n\u001b[1;32m     94\u001b[0m \u001b[0;34m\u001b[0m\u001b[0m\n",
            "\u001b[0;32m<ipython-input-49-928d5f91b1bf>\u001b[0m in \u001b[0;36mdisplay_main_menu\u001b[0;34m()\u001b[0m\n\u001b[1;32m     63\u001b[0m     \u001b[0mprint\u001b[0m\u001b[0;34m(\u001b[0m\u001b[0;34m\"Q - Quit\"\u001b[0m\u001b[0;34m)\u001b[0m\u001b[0;34m\u001b[0m\u001b[0;34m\u001b[0m\u001b[0m\n\u001b[1;32m     64\u001b[0m \u001b[0;34m\u001b[0m\u001b[0m\n\u001b[0;32m---> 65\u001b[0;31m     \u001b[0moption\u001b[0m \u001b[0;34m=\u001b[0m \u001b[0minput\u001b[0m\u001b[0;34m(\u001b[0m\u001b[0;34m\"Enter selection =>\"\u001b[0m\u001b[0;34m)\u001b[0m\u001b[0;34m\u001b[0m\u001b[0;34m\u001b[0m\u001b[0m\n\u001b[0m\u001b[1;32m     66\u001b[0m \u001b[0;34m\u001b[0m\u001b[0m\n\u001b[1;32m     67\u001b[0m     \u001b[0;32mif\u001b[0m \u001b[0moption\u001b[0m \u001b[0;34m==\u001b[0m \u001b[0;34m'1'\u001b[0m\u001b[0;34m:\u001b[0m\u001b[0;34m\u001b[0m\u001b[0;34m\u001b[0m\u001b[0m\n",
            "\u001b[0;32m/usr/local/lib/python3.10/dist-packages/ipykernel/kernelbase.py\u001b[0m in \u001b[0;36mraw_input\u001b[0;34m(self, prompt)\u001b[0m\n\u001b[1;32m    849\u001b[0m                 \u001b[0;34m\"raw_input was called, but this frontend does not support input requests.\"\u001b[0m\u001b[0;34m\u001b[0m\u001b[0;34m\u001b[0m\u001b[0m\n\u001b[1;32m    850\u001b[0m             )\n\u001b[0;32m--> 851\u001b[0;31m         return self._input_request(str(prompt),\n\u001b[0m\u001b[1;32m    852\u001b[0m             \u001b[0mself\u001b[0m\u001b[0;34m.\u001b[0m\u001b[0m_parent_ident\u001b[0m\u001b[0;34m,\u001b[0m\u001b[0;34m\u001b[0m\u001b[0;34m\u001b[0m\u001b[0m\n\u001b[1;32m    853\u001b[0m             \u001b[0mself\u001b[0m\u001b[0;34m.\u001b[0m\u001b[0m_parent_header\u001b[0m\u001b[0;34m,\u001b[0m\u001b[0;34m\u001b[0m\u001b[0;34m\u001b[0m\u001b[0m\n",
            "\u001b[0;32m/usr/local/lib/python3.10/dist-packages/ipykernel/kernelbase.py\u001b[0m in \u001b[0;36m_input_request\u001b[0;34m(self, prompt, ident, parent, password)\u001b[0m\n\u001b[1;32m    893\u001b[0m             \u001b[0;32mexcept\u001b[0m \u001b[0mKeyboardInterrupt\u001b[0m\u001b[0;34m:\u001b[0m\u001b[0;34m\u001b[0m\u001b[0;34m\u001b[0m\u001b[0m\n\u001b[1;32m    894\u001b[0m                 \u001b[0;31m# re-raise KeyboardInterrupt, to truncate traceback\u001b[0m\u001b[0;34m\u001b[0m\u001b[0;34m\u001b[0m\u001b[0m\n\u001b[0;32m--> 895\u001b[0;31m                 \u001b[0;32mraise\u001b[0m \u001b[0mKeyboardInterrupt\u001b[0m\u001b[0;34m(\u001b[0m\u001b[0;34m\"Interrupted by user\"\u001b[0m\u001b[0;34m)\u001b[0m \u001b[0;32mfrom\u001b[0m \u001b[0;32mNone\u001b[0m\u001b[0;34m\u001b[0m\u001b[0;34m\u001b[0m\u001b[0m\n\u001b[0m\u001b[1;32m    896\u001b[0m             \u001b[0;32mexcept\u001b[0m \u001b[0mException\u001b[0m \u001b[0;32mas\u001b[0m \u001b[0me\u001b[0m\u001b[0;34m:\u001b[0m\u001b[0;34m\u001b[0m\u001b[0;34m\u001b[0m\u001b[0m\n\u001b[1;32m    897\u001b[0m                 \u001b[0mself\u001b[0m\u001b[0;34m.\u001b[0m\u001b[0mlog\u001b[0m\u001b[0;34m.\u001b[0m\u001b[0mwarning\u001b[0m\u001b[0;34m(\u001b[0m\u001b[0;34m\"Invalid Message:\"\u001b[0m\u001b[0;34m,\u001b[0m \u001b[0mexc_info\u001b[0m\u001b[0;34m=\u001b[0m\u001b[0;32mTrue\u001b[0m\u001b[0;34m)\u001b[0m\u001b[0;34m\u001b[0m\u001b[0;34m\u001b[0m\u001b[0m\n",
            "\u001b[0;31mKeyboardInterrupt\u001b[0m: Interrupted by user"
          ]
        }
      ],
      "source": [
        "# Define a dictionary to store employee information\n",
        "employee_data = [\n",
        "    {\"name\": \"John\", \"age\": 30, \"department\": \"Sales\", \"salary\": 50000},\n",
        "    {\"name\": \"Jane\", \"age\": 25, \"department\": \"Marketing\", \"salary\": 60000},\n",
        "    {\"name\": \"Mary\", \"age\": 23, \"department\": \"Marketing\", \"salary\": 56000},\n",
        "    {\"name\": \"Chloe\",  \"age\": 35, \"department\": \"Engineering\", \"salary\": 70000},\n",
        "    {\"name\": \"Mike\", \"age\": 32, \"department\": \"Engineering\", \"salary\": 65000},\n",
        "    {\"name\": \"Peter\", \"age\": 40, \"department\": \"Sales\", \"salary\": 60000}\n",
        "]\n",
        "\n",
        "def get_employees_by_age_range(age_lower_limit, age_upper_limit):\n",
        "    result = []\n",
        "\n",
        "    # check for age limits and append the item to result\n",
        "    for item in employee_data:\n",
        "        if int(item[\"age\"]) > int(age_lower_limit) and int(item[\"age\"]) < int(age_upper_limit):\n",
        "            result.append(item)\n",
        "\n",
        "    return result\n",
        "\n",
        "def calculate_average_salary():\n",
        "    total = 0\n",
        "    average = 0\n",
        "\n",
        "    #add your implementation to calculate here\n",
        "    for item in employee_data:\n",
        "        total += item[\"age\"]\n",
        "    average = total / 6\n",
        "    return average\n",
        "\n",
        "def get_employees_by_dept(department):\n",
        "    result = []\n",
        "\n",
        "    # Add your implementation from here\n",
        "    for item in employee_data:\n",
        "        if str(item[\"department\"]) == department:\n",
        "          result.append(item)\n",
        "    return result\n",
        "\n",
        "def display_all_records():\n",
        "    print((\"Name\" + \"\\t\" +\"Age\" +\"\\t\" +\"Department\" +\"\\t\" +\"Salary\" ).expandtabs(15))\n",
        "    for item in employee_data:\n",
        "        print((item[\"name\"] + \"\\t\" + str(item[\"age\"]) + \"\\t\" + item[\"department\"] + \"\\t\" + str(item[\"salary\"])).expandtabs(15))\n",
        "\n",
        "\n",
        "def display_records(employee_info):\n",
        "    print((\"Name\" + \"\\t\" +\"Age\" +\"\\t\" +\"Department\" +\"\\t\" +\"Salary\" ).expandtabs(15))\n",
        "    for item in employee_info:\n",
        "        print((item[\"name\"] + \"\\t\" + str(item[\"age\"]) + \"\\t\" + item[\"department\"] + \"\\t\" + str(item[\"salary\"])).expandtabs(15))\n",
        "\n",
        "def display_main_menu():\n",
        "\n",
        "    print(\"\\n----- Employee information Tracker -----\")\n",
        "\n",
        "    print(\"Select option\\n\")\n",
        "\n",
        "    print(\"1 - Display all records\")\n",
        "    print(\"2 - Display average salary\")\n",
        "    print(\"3 - Display employee within age range\")\n",
        "    print(\"4 - Display employee in a department\")\n",
        "\n",
        "\n",
        "    print(\"Q - Quit\")\n",
        "\n",
        "    option = input(\"Enter selection =>\")\n",
        "\n",
        "    if option == '1':\n",
        "        display_all_records()\n",
        "\n",
        "    elif option == '2':\n",
        "        average_salary = calculate_average_salary()\n",
        "        print(\"Average salary = \" + str(average_salary))\n",
        "\n",
        "    elif option == '3':\n",
        "        age_lower_limit = input(\"age (Lower Limit) = \")\n",
        "        age_upper_limit = input(\"age (Uper Limit) = \")\n",
        "        employee_info = get_employees_by_age_range(age_lower_limit, age_upper_limit)\n",
        "        display_records(employee_info)\n",
        "\n",
        "\n",
        "    elif option == '4':\n",
        "        department = input(\"Name of Department = \")\n",
        "        employee_info = get_employees_by_dept(department)\n",
        "        display_records(employee_info)\n",
        "\n",
        "    elif option == 'Q':\n",
        "        quit()\n",
        "\n",
        "def main():\n",
        "\n",
        "    while (True):\n",
        "        display_main_menu()\n",
        "\n",
        "\n",
        "if __name__ == \"__main__\":\n",
        "    main()"
      ]
    },
    {
      "cell_type": "code",
      "execution_count": null,
      "metadata": {
        "id": "zqusFg7SR5TI"
      },
      "outputs": [],
      "source": [
        "import unittest\n",
        "import employee_info as ei\n",
        "class MyTestCase(unittest.TestCase):\n",
        "    def test_something(self):\n",
        "        self.assertEqual(ei.get_employees_by_age_range(22,31), ei.employee_data[:3])  # add assertion here\n",
        "        self.assertEqual(ei.calculate_average_salary(),361000/6)\n",
        "        self.assertEqual(ei.get_employees_by_dept(\"sales\"),[employee_info.employee_data[i] for i in [0, 5]])\n",
        "if __name__ == '__main__':\n",
        "    unittest.main()\n",
        "\n"
      ]
    },
    {
      "cell_type": "markdown",
      "metadata": {
        "id": "eDtPYEvfMJ-6"
      },
      "source": []
    },
    {
      "cell_type": "markdown",
      "metadata": {
        "id": "mrQ9_QYGI41m"
      },
      "source": []
    },
    {
      "cell_type": "markdown",
      "metadata": {
        "id": "ZOrRUVreI2kR"
      },
      "source": []
    }
  ],
  "metadata": {
    "colab": {
      "provenance": [],
      "include_colab_link": true
    },
    "kernelspec": {
      "display_name": "Python 3",
      "name": "python3"
    },
    "language_info": {
      "name": "python"
    }
  },
  "nbformat": 4,
  "nbformat_minor": 0
}